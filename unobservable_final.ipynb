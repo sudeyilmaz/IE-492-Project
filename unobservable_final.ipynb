{
 "cells": [
  {
   "cell_type": "code",
   "execution_count": 10,
   "metadata": {},
   "outputs": [],
   "source": [
    "import matplotlib.pyplot as plt\n",
    "import math\n",
    "import numpy as np"
   ]
  },
  {
   "cell_type": "markdown",
   "metadata": {},
   "source": [
    "# UNOBSERVABLE MODEL"
   ]
  },
  {
   "cell_type": "markdown",
   "metadata": {},
   "source": [
    "### Waiting Time Function: "
   ]
  },
  {
   "cell_type": "code",
   "execution_count": 11,
   "metadata": {},
   "outputs": [],
   "source": [
    "def waiting_time(h1, h2, L1, L2, μ):\n",
    "    W1 = (L1*h1 + L2*h2)/(μ*(μ - L1*h1))\n",
    "    W2 = (L1*h1 + L2*h2)/((μ - L1*h1)*(μ - L1*h1 - L2*h2))\n",
    "    return (W1, W2)"
   ]
  },
  {
   "cell_type": "markdown",
   "metadata": {},
   "source": [
    "### Utility Function:"
   ]
  },
  {
   "cell_type": "code",
   "execution_count": 12,
   "metadata": {},
   "outputs": [],
   "source": [
    "def calculate_utility(h1, h2, L1, L2, R1, c1, R2, c2, P, μ):\n",
    "    U1 = R1 - P - c1*waiting_time(h1, h2, L1, L2, μ)[0]\n",
    "    U2 = R2 - P - c2*waiting_time(h1, h2, L1, L2, μ)[1]\n",
    "    return U1, U2"
   ]
  },
  {
   "cell_type": "code",
   "execution_count": 13,
   "metadata": {},
   "outputs": [],
   "source": [
    "def check_utility(h1, h2, L1, L2, R1, c1, R2, c2, P, μ):\n",
    "    U1, U2 = calculate_utility(h1, h2, L1, L2, R1, c1, R2, c2, P, μ)\n",
    "    return (U1 >= 0 , U2 >= 0)"
   ]
  },
  {
   "cell_type": "markdown",
   "metadata": {},
   "source": [
    "### Calculating Equilibrium Entering Probabilities: "
   ]
  },
  {
   "cell_type": "code",
   "execution_count": 14,
   "metadata": {},
   "outputs": [],
   "source": [
    "def calculate_h1_h2(L1, L2, R1, c1, R2, c2, P, μ):\n",
    "    if R1 < P:\n",
    "        sol = find_h1_h2(L1, L2, R1, c1, R2, c2, P, μ, h_1 = 0)\n",
    "        return sol\n",
    "    elif R2 < P:\n",
    "        sol = find_h1_h2(L1, L2, R1, c1, R2, c2, P, μ, h_2 = 0)\n",
    "        return sol\n",
    "    else:\n",
    "        if R1 == P or R2 == P:\n",
    "            sol = find_h1_h2(L1, L2, R1, c1, R2, c2, P, μ)\n",
    "            return sol  \n",
    "        else:\n",
    "            h1 = (μ-(c1/(R1-P))+(c2/(R2-P)))/L1\n",
    "            h2 = (((-(R1-P)*c2*μ)/(c1*(R2-P))) + c1/(R1-P) - c2/(R2-P))/L2\n",
    "            if 0 <= h1 <= 1 and 0 <= h2 <= 1:\n",
    "                return (h1,h2)\n",
    "            else:\n",
    "                sol = find_h1_h2(L1, L2, R1, c1, R2, c2, P, μ)\n",
    "                return sol"
   ]
  },
  {
   "cell_type": "markdown",
   "metadata": {},
   "source": [
    "### Generated Algorithm to Find Equilibrium Entering Probabilities:"
   ]
  },
  {
   "cell_type": "code",
   "execution_count": 15,
   "metadata": {},
   "outputs": [],
   "source": [
    "def find_h1_h2(L1, L2, R1, c1, R2, c2, P, μ, h_1 = None, h_2 = None):\n",
    "    def is_dominated(point, other_points):\n",
    "            x, y = point\n",
    "            for other_x, other_y in other_points:\n",
    "                if other_x > x and other_y >= y:\n",
    "                    return True\n",
    "            return False\n",
    "    \n",
    "    def find_key(dictionary, value):\n",
    "        for key, val in dictionary.items():\n",
    "            if val == value:\n",
    "                return key\n",
    "        return None\n",
    "\n",
    "    def euclidean_distance(x1, y1, x2, y2):\n",
    "        return math.sqrt((x1 - x2)**2 + (y1 - y2)**2)\n",
    "\n",
    "    if h_1 == None and h_2 == None:\n",
    "        numbers = [(i/100, j/100) for i in range(101) for j in range(101)]\n",
    "        numbers = [n for n in numbers if n[0] < μ/L1]\n",
    "        numbers = [n for n in numbers if n[0]*L1 + n[1]*L2 < μ]\n",
    "        utilities = {}\n",
    "        for r in range(len(numbers)):\n",
    "            utilities[numbers[r][0], numbers[r][1]] = check_utility(numbers[r][0], numbers[r][1], L1, L2, R1, c1, R2, c2, P, μ)\n",
    "        filtered_dict = {k: v for k, v in utilities.items() if v == (True, True)}\n",
    "        distinct_h1 = sorted({key[0] for key in filtered_dict.keys()})\n",
    "        max_second_elements = {}\n",
    "        for first_element in distinct_h1:\n",
    "            max_second = None\n",
    "            for key in filtered_dict.keys():\n",
    "                if key[0] == first_element:\n",
    "                    if max_second is None or key[1] > max_second:\n",
    "                        max_second = key[1]\n",
    "            max_second_elements[first_element] = max_second\n",
    "        h1_values = list(max_second_elements.keys())\n",
    "        h2_values = list(max_second_elements.values())\n",
    "        zipped_values = list(zip(h1_values, h2_values))\n",
    "        filtered_zipped = [point for point in zipped_values if not is_dominated(point, zipped_values)]\n",
    "        if filtered_zipped == []:\n",
    "                    solution_h = (0,0)\n",
    "                    return(solution_h)\n",
    "        else:\n",
    "            remaining_utilities = {}\n",
    "            for r in range(len(filtered_zipped)):\n",
    "                remaining_utilities[filtered_zipped[r][0], filtered_zipped[r][1]] = calculate_utility(filtered_zipped[r][0], filtered_zipped[r][1], L1, L2, R1, c1, R2, c2, P, μ)\n",
    "            list_U = remaining_utilities.values()\n",
    "            min_distance = float('inf')\n",
    "            closest_point = None\n",
    "            for point in list_U:\n",
    "                distance = euclidean_distance(point[0], point[1], 0, 0)\n",
    "                if distance < min_distance:\n",
    "                    min_distance = distance\n",
    "                    closest_point = point\n",
    "            solution_h = find_key(remaining_utilities, closest_point)\n",
    "            return solution_h\n",
    "    if h_1 == 0:\n",
    "        list_h2 = [i/100 for i in range(101)]\n",
    "        list_h2 = [h for h in list_h2 if h_1*L1 + h*L2 < μ]\n",
    "        numbers = [(0,h2) for h2 in list_h2]\n",
    "        utilities = {}\n",
    "        for r in range(len(numbers)):\n",
    "            utilities[numbers[r][0], numbers[r][1]] = check_utility(numbers[r][0], numbers[r][1], L1, L2, R1, c1, R2, c2, P, μ)[1]\n",
    "        filtered_dict = {k: v for k, v in utilities.items() if v == (True)}\n",
    "        max_h2 = None\n",
    "        for key in filtered_dict.keys():\n",
    "            if max_h2 is None or key[1] > max_h2:\n",
    "                max_h2 = key[1]\n",
    "        if max_h2 == None:\n",
    "            solution_h = (0,0)\n",
    "            return(solution_h)\n",
    "        else:\n",
    "            solution_h = 0, max_h2\n",
    "            return solution_h\n",
    "    \n",
    "    if h_2 == 0:\n",
    "        list_h1 = [i/100 for i in range(101)]\n",
    "        list_h1 = [h for h in list_h1 if h < μ/L1]\n",
    "        list_h1 = [h for h in list_h1 if h*L1 + h_2*L2 < μ]\n",
    "        numbers = [(h1, 0) for h1 in list_h1]\n",
    "        utilities = {}\n",
    "        for r in range(len(numbers)):\n",
    "            utilities[numbers[r][0], numbers[r][1]] = check_utility(numbers[r][0], numbers[r][1], L1, L2, R1, c1, R2, c2, P, μ)[0]\n",
    "        filtered_dict = {k: v for k, v in utilities.items() if v == (True)}\n",
    "        max_h1 = None\n",
    "        for key in filtered_dict.keys():\n",
    "            if max_h1 is None or key[0] > max_h1:\n",
    "                max_h1 = key[0]\n",
    "        if max_h1 == None:\n",
    "            solution_h = (0,0)\n",
    "            return(solution_h)\n",
    "        else:\n",
    "            solution_h = max_h1, 0\n",
    "            return solution_h"
   ]
  },
  {
   "cell_type": "markdown",
   "metadata": {},
   "source": [
    "### Calculating Total Revenue: "
   ]
  },
  {
   "cell_type": "code",
   "execution_count": 16,
   "metadata": {},
   "outputs": [],
   "source": [
    "def calculate_revenue(h1, h2, L1, L2, R1, c1, R2, c2, P, μ):\n",
    "    L1_eq = h1*L1\n",
    "    L2_eq = h2*L2\n",
    "    revenue = (L1_eq + L2_eq) * P\n",
    "    return revenue"
   ]
  },
  {
   "cell_type": "markdown",
   "metadata": {},
   "source": [
    "### Revenue Maximization: "
   ]
  },
  {
   "cell_type": "code",
   "execution_count": 17,
   "metadata": {},
   "outputs": [],
   "source": [
    "def revenue_max_unobs(L1,L2,R1,c1,R2,c2,μ):\n",
    "    P_values = np.linspace(0, max(R1,R2), 10*(max(R1,R2))+1)\n",
    "    max_revenue = float('-inf')\n",
    "    optimal_P = None\n",
    "    revenue_list = {}\n",
    "    h_data = {}\n",
    "    for P in P_values:\n",
    "        h1_h2 = calculate_h1_h2(L1, L2, R1, c1, R2, c2, P, μ)\n",
    "        revenue = calculate_revenue(h1_h2[0], h1_h2[1], L1, L2, R1, c1, R2, c2, P, μ)\n",
    "        revenue_list[P] = revenue\n",
    "        h_data[P] = h1_h2\n",
    "        if revenue is not None:\n",
    "            if revenue > max_revenue:\n",
    "                max_revenue = revenue\n",
    "                optimal_P = P\n",
    "    return max_revenue, optimal_P\n"
   ]
  },
  {
   "cell_type": "markdown",
   "metadata": {},
   "source": [
    "### Utility Maximization: "
   ]
  },
  {
   "cell_type": "code",
   "execution_count": 18,
   "metadata": {},
   "outputs": [],
   "source": [
    "def utility_max_unobs(L1, L2, R1, c1, R2, c2, μ):\n",
    "    P_values = np.linspace(0, max(R1,R2), 10*(max(R1,R2))+1)\n",
    "    max_utility = float('-inf')\n",
    "    optimal_P = None\n",
    "    utility_list = {}\n",
    "    data = {}\n",
    "    for P in P_values:\n",
    "        h1_h2 = calculate_h1_h2(L1, L2, R1, c1, R2, c2, P, μ)\n",
    "        utility = L1*h1_h2[0]*calculate_utility(h1_h2[0], h1_h2[1], L1, L2, R1, c1, R2, c2, P, μ)[0] + L2*h1_h2[1]*calculate_utility(h1_h2[0], h1_h2[1], L1, L2, R1, c1, R2, c2, P, μ)[1]\n",
    "        utility_list[P] = utility\n",
    "        data[P] = h1_h2\n",
    "        if utility is not None:\n",
    "            if utility > max_utility:\n",
    "                max_utility = utility\n",
    "                optimal_P = P\n",
    "\n",
    "    return max_utility, optimal_P\n"
   ]
  },
  {
   "cell_type": "markdown",
   "metadata": {},
   "source": [
    "### Service Rate Optimization:"
   ]
  },
  {
   "cell_type": "code",
   "execution_count": 19,
   "metadata": {},
   "outputs": [],
   "source": [
    "def service_rate_opt_unobs(μ_0, L1, L2, R1, c1, R2, c2):\n",
    "    c = 1.5\n",
    "    P_values = np.linspace(0, max(R1,R2), 10*(max(R1,R2))+1)\n",
    "    μ_values = [1.5, 2.0,  2.5, 3.0,  3.5, 4.0,  4.5, 5.0] \n",
    "    max_revenue = float('-inf')\n",
    "    optimal_param = None\n",
    "    rate_list = {}\n",
    "    for P in P_values:\n",
    "        for μ in μ_values:\n",
    "            h1_h2 = calculate_h1_h2(L1, L2, R1, c1, R2, c2, P, μ)\n",
    "            revenue = calculate_revenue(h1_h2[0], h1_h2[1], L1, L2, R1, c1, R2, c2, P, μ) - c*max((μ-μ_0),0)\n",
    "            rate_list[(P, μ)] = revenue\n",
    "            if revenue is not None:\n",
    "                if revenue > max_revenue:\n",
    "                    max_revenue = revenue\n",
    "                    optimal_param = (P, μ)\n",
    "    return max_revenue, optimal_param\n"
   ]
  },
  {
   "cell_type": "markdown",
   "metadata": {},
   "source": [
    "### Parameter Set Selection for the Experiments:"
   ]
  },
  {
   "cell_type": "code",
   "execution_count": 20,
   "metadata": {},
   "outputs": [],
   "source": [
    "μ_values = [1.1 , 1.5, 2, 3.1]\n",
    "R_values = [5, 10, 15]\n",
    "c1_values = [3, 4, 5]\n",
    "c2_values = [1, 2, 3]\n",
    "parameters = [(L1, L2, R1, c1, R2, c2, μ) for R1 in R_values for c1 in c1_values for R2 in R_values for c2 in c2_values for L1 in [1] for L2 in [1]  for μ in μ_values]"
   ]
  }
 ],
 "metadata": {
  "kernelspec": {
   "display_name": "Python 3",
   "language": "python",
   "name": "python3"
  },
  "language_info": {
   "codemirror_mode": {
    "name": "ipython",
    "version": 3
   },
   "file_extension": ".py",
   "mimetype": "text/x-python",
   "name": "python",
   "nbconvert_exporter": "python",
   "pygments_lexer": "ipython3",
   "version": "3.8.5"
  }
 },
 "nbformat": 4,
 "nbformat_minor": 4
}
